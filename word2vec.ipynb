{
 "cells": [
  {
   "cell_type": "code",
   "execution_count": 3,
   "metadata": {},
   "outputs": [],
   "source": [
    "import MeCab\n",
    "import os\n",
    "import pandas as pd\n",
    "\n",
    "# 辞書があるpath: \"C:\\Program Files\\MeCab\\dic\\ipadic\"\n",
    "path_dic = \"C:\\\\Program Files\\\\MeCab\\\\dic\\\\ipadic\"\n",
    "\n",
    "# データ格納用のDataFrameを作成\n",
    "df = pd.DataFrame(columns=[\"topic\", \"date\", \"words\"])\n",
    "\n",
    "# ファイルがあるディレクトリのパスのリスト\n",
    "folders = [\n",
    "  \"dokujo-tsushin\",\n",
    "  \"it-life-hack\",\n",
    "  \"kaden-channel\",\n",
    "  \"livedoor-homme\",\n",
    "  \"movie-enter\",\n",
    "  \"peachy\",\n",
    "  \"smax\",\n",
    "  \"sports-watch\",\n",
    "  \"topic-news\"\n",
    "]\n",
    "\n",
    "# MeCab.Tagger() でインスタンスを生成\n",
    "tagger = MeCab.Tagger(path_dic)\n",
    "\n",
    "# 形態素解析\n",
    "## \"text/\" + foldersファイルを読み込む\n",
    "for folder in folders:\n",
    "  files = os.listdir(\"text/\" + folder)\n",
    "  for file in files:\n",
    "    with open(\"text/\" + folder + \"/\" + file, \"r\", encoding=\"utf-8\") as f:\n",
    "      lines = f.readlines()\n",
    "      date = lines[1].replace(\"\\n\", \"\")\n",
    "      text = \"\".join(lines[2:])\n",
    "        \n",
    "    # parse() で形態素解析を行う\n",
    "    result = tagger.parse(text)\n",
    "    \n",
    "    # 形態素解析の結果の単語のみを取り出す\n",
    "    words = []\n",
    "    for row in result.split(\"\\n\"):\n",
    "      if row == \"EOS\":\n",
    "        break\n",
    "      word = row.split(\"\\t\")[0]\n",
    "      words.append(word)\n",
    "    \n",
    "    # 単語のリストを' 'で連結\n",
    "    words = \" \".join(words)\n",
    "    \n",
    "    # データをDataFrameに追加\n",
    "    df = pd.concat([df, pd.DataFrame([[folder, date, words]], columns=[\"topic\", \"date\", \"words\"])], join=\"inner\")"
   ]
  },
  {
   "cell_type": "code",
   "execution_count": 9,
   "metadata": {},
   "outputs": [],
   "source": [
    "# Word2Vecの学習\n",
    "sentences = []\n",
    "for text in df[\"words\"]:\n",
    "  text_list = text.split(\" \")\n",
    "  sentences.append(text_list)\n",
    "\n",
    "from gensim.models import Word2Vec\n",
    "model = Word2Vec(sentences,  sg=1, vector_size=100, window=5, min_count=1)"
   ]
  },
  {
   "cell_type": "code",
   "execution_count": 15,
   "metadata": {},
   "outputs": [
    {
     "name": "stdout",
     "output_type": "stream",
     "text": [
      "('アドバイザー', 0.8483713865280151)\n",
      "('可否', 0.8460174202919006)\n",
      "('入部', 0.8424232602119446)\n",
      "('キュレーター', 0.8387464880943298)\n",
      "('ラサール', 0.8377898931503296)\n",
      "('啓発', 0.8316361904144287)\n",
      "('許可なく', 0.8306527733802795)\n",
      "('立案', 0.8303689956665039)\n",
      "('通達', 0.8287867903709412)\n",
      "('解答', 0.8286617398262024)\n"
     ]
    }
   ],
   "source": [
    "# 類義語の表示\n",
    "for result in model.wv.most_similar(\"講義\"):\n",
    "  print(result)"
   ]
  },
  {
   "cell_type": "code",
   "execution_count": 14,
   "metadata": {},
   "outputs": [
    {
     "name": "stdout",
     "output_type": "stream",
     "text": [
      "('巨匠', 0.6439781785011292)\n",
      "('スウェーデン', 0.629744827747345)\n",
      "('死闘', 0.6239414215087891)\n",
      "('フランス', 0.6202606558799744)\n",
      "('裏切り', 0.6161167621612549)\n",
      "('ボクシング', 0.6129253506660461)\n",
      "('イギリス', 0.6093736886978149)\n",
      "('凱旋', 0.6053586602210999)\n",
      "('純真', 0.605124294757843)\n",
      "('終焉', 0.6035944223403931)\n"
     ]
    }
   ],
   "source": [
    "# 単語同士の算術演算\n",
    "# 例: \"日本\" + \"パリ\" - \"東京\" = \n",
    "for result in model.wv.most_similar(positive=[\"日本\", \"パリ\"], negative=[\"東京\"]):\n",
    "    print(result)"
   ]
  }
 ],
 "metadata": {
  "kernelspec": {
   "display_name": "base",
   "language": "python",
   "name": "python3"
  },
  "language_info": {
   "codemirror_mode": {
    "name": "ipython",
    "version": 3
   },
   "file_extension": ".py",
   "mimetype": "text/x-python",
   "name": "python",
   "nbconvert_exporter": "python",
   "pygments_lexer": "ipython3",
   "version": "3.11.5"
  }
 },
 "nbformat": 4,
 "nbformat_minor": 2
}
